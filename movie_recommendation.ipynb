{
  "nbformat": 4,
  "nbformat_minor": 0,
  "metadata": {
    "colab": {
      "provenance": []
    },
    "kernelspec": {
      "name": "python3",
      "display_name": "Python 3"
    },
    "language_info": {
      "name": "python"
    }
  },
  "cells": [
    {
      "cell_type": "code",
      "source": [
        "import pandas as pd\n",
        "\n",
        "movies = pd.read_csv(\"movies_metadata.csv\", low_memory=False, on_bad_lines='skip')\n",
        "\n",
        "movies = movies[['title', 'overview']]\n",
        "movies.dropna(inplace=True)\n",
        "movies = movies[movies['overview'].str.strip().astype(bool)]\n",
        "movies.drop_duplicates(inplace=True)\n",
        "\n",
        "movies = movies.head(1000)\n",
        "movies.reset_index(drop=True, inplace=True)\n",
        "\n"
      ],
      "metadata": {
        "colab": {
          "base_uri": "https://localhost:8080/"
        },
        "id": "bPE3GYl6ZMf9",
        "outputId": "a5d336f6-cd01-414b-8ee2-56347dc9c545"
      },
      "execution_count": 26,
      "outputs": [
        {
          "output_type": "stream",
          "name": "stderr",
          "text": [
            "/tmp/ipython-input-26-2399529156.py:8: SettingWithCopyWarning: \n",
            "A value is trying to be set on a copy of a slice from a DataFrame\n",
            "\n",
            "See the caveats in the documentation: https://pandas.pydata.org/pandas-docs/stable/user_guide/indexing.html#returning-a-view-versus-a-copy\n",
            "  movies.drop_duplicates(inplace=True)\n"
          ]
        }
      ]
    },
    {
      "cell_type": "code",
      "execution_count": 27,
      "metadata": {
        "id": "9jywoPPaYAAo"
      },
      "outputs": [],
      "source": [
        "from sklearn.feature_extraction.text import TfidfVectorizer\n",
        "from sklearn.metrics.pairwise import cosine_similarity\n",
        "\n",
        "tfidf = TfidfVectorizer(stop_words='english')\n",
        "tfidf_matrix = tfidf.fit_transform(movies['overview'])\n",
        "\n",
        "cosine_sim = cosine_similarity(tfidf_matrix, tfidf_matrix)\n",
        "\n"
      ]
    },
    {
      "cell_type": "code",
      "source": [
        "indices = pd.Series(movies.index, index=movies['title']).drop_duplicates()\n",
        "\n",
        "def get_recommendations(title, cosine_sim=cosine_sim):\n",
        "    idx = indices.get(title)\n",
        "\n",
        "    if idx is None:\n",
        "        print(\"Movie not found!\")\n",
        "        return []\n",
        "\n",
        "    sim_scores = list(enumerate(cosine_sim[idx]))\n",
        "    sim_scores = sorted(sim_scores, key=lambda x: x[1], reverse=True)\n",
        "    sim_scores = sim_scores[1:11]\n",
        "    movie_indices = [i[0] for i in sim_scores]\n",
        "\n",
        "    return movies['title'].iloc[movie_indices]\n"
      ],
      "metadata": {
        "id": "OlmBM0Tvcjka"
      },
      "execution_count": 28,
      "outputs": []
    },
    {
      "cell_type": "code",
      "source": [
        "movie_name = input(\"Enter a movie you like: \")\n",
        "print(\"Top 5 similar movies:\")\n",
        "print(get_recommendations(movie_name))\n"
      ],
      "metadata": {
        "colab": {
          "base_uri": "https://localhost:8080/"
        },
        "collapsed": true,
        "id": "_uKrBM84coGL",
        "outputId": "a0bf48df-4246-400d-85d2-d700b42ae377"
      },
      "execution_count": 30,
      "outputs": [
        {
          "output_type": "stream",
          "name": "stdout",
          "text": [
            "Enter a movie you like: godfather\n",
            "Top 5 similar movies:\n",
            "Movie not found!\n",
            "[]\n"
          ]
        }
      ]
    },
    {
      "cell_type": "code",
      "source": [
        "def extract_keywords(user_input):\n",
        "    user_input = user_input.lower()\n",
        "    genres = ['action', 'comedy', 'romance', 'thriller', 'adventure', 'drama', 'horror', 'sci-fi', 'animation', 'crime', 'mystery']\n",
        "    extracted = [genre for genre in genres if genre in user_input]\n",
        "    return extracted if extracted else [\"drama\"]\n"
      ],
      "metadata": {
        "id": "q_ObKLMBcoCv"
      },
      "execution_count": 31,
      "outputs": []
    },
    {
      "cell_type": "code",
      "source": [
        "def recommend_by_mood(user_input, top_n=5):\n",
        "    keywords = extract_keywords(user_input)\n",
        "    print(\"Detected mood genres:\", keywords)\n",
        "\n",
        "    filtered_movies = movies[movies['overview'].str.contains('|'.join(keywords), case=False)]\n",
        "\n",
        "    if filtered_movies.empty:\n",
        "        return \"No matching movies found 😔\"\n",
        "\n",
        "    tfidf_matrix_filtered = tfidf.fit_transform(filtered_movies['overview'])\n",
        "    cosine_sim_filtered = cosine_similarity(tfidf_matrix_filtered, tfidf_matrix_filtered)\n",
        "\n",
        "    idx = 0\n",
        "    sim_scores = list(enumerate(cosine_sim_filtered[idx]))\n",
        "    sim_scores = sorted(sim_scores, key=lambda x: x[1], reverse=True)[1:top_n+1]\n",
        "    indices = [i[0] for i in sim_scores]\n",
        "    return filtered_movies['title'].iloc[indices]\n"
      ],
      "metadata": {
        "id": "kto18NuucoAM"
      },
      "execution_count": 32,
      "outputs": []
    },
    {
      "cell_type": "code",
      "source": [
        "user_mood = input(\"Tell me your movie mood (e.g., ‘I want a romantic comedy’): \")\n",
        "print(recommend_by_mood(user_mood))\n"
      ],
      "metadata": {
        "colab": {
          "base_uri": "https://localhost:8080/"
        },
        "collapsed": true,
        "id": "D31nPVw-cn9j",
        "outputId": "1756590a-9212-4f37-e246-5d1f7b088db9"
      },
      "execution_count": 33,
      "outputs": [
        {
          "output_type": "stream",
          "name": "stdout",
          "text": [
            "Tell me your movie mood (e.g., ‘I want a romantic comedy’): drama\n",
            "Detected mood genres: ['drama']\n",
            "295                 Quiz Show\n",
            "285        Once Were Warriors\n",
            "742            The Grass Harp\n",
            "151            Beyond Rangoon\n",
            "592    The Wooden Man's Bride\n",
            "Name: title, dtype: object\n"
          ]
        }
      ]
    },
    {
      "cell_type": "code",
      "source": [
        "upcoming_movies = pd.DataFrame({\n",
        "    'title': ['Deadpool 3', 'Dune 2', 'Inside Out 2', 'Beetlejuice 2'],\n",
        "    'trailer_comments_sentiment': [0.9, 0.85, 0.95, 0.7]\n",
        "})\n",
        "\n",
        "def recommend_upcoming(top_n=3):\n",
        "    recommended = upcoming_movies.sort_values(by='trailer_comments_sentiment', ascending=False)\n",
        "    return recommended['title'].head(top_n)\n"
      ],
      "metadata": {
        "id": "Np53KORicnyD"
      },
      "execution_count": 35,
      "outputs": []
    },
    {
      "cell_type": "code",
      "source": [
        "print(\" Upcoming movies you might enjoy:\")\n",
        "print(recommend_upcoming())\n"
      ],
      "metadata": {
        "colab": {
          "base_uri": "https://localhost:8080/"
        },
        "collapsed": true,
        "id": "B8biU8HSdAzM",
        "outputId": "49d57d7d-8b48-4e22-a511-227156b3bded"
      },
      "execution_count": 36,
      "outputs": [
        {
          "output_type": "stream",
          "name": "stdout",
          "text": [
            " Upcoming movies you might enjoy:\n",
            "2    Inside Out 2\n",
            "0      Deadpool 3\n",
            "1          Dune 2\n",
            "Name: title, dtype: object\n"
          ]
        }
      ]
    },
    {
      "cell_type": "code",
      "source": [
        "import json\n",
        "import os\n",
        "\n",
        "def save_user_memory(user_id, liked_movie):\n",
        "    if os.path.exists('user_memory.json'):\n",
        "        with open('user_memory.json', 'r') as f:\n",
        "            data = json.load(f)\n",
        "    else:\n",
        "        data = {}\n",
        "\n",
        "    if user_id not in data:\n",
        "        data[user_id] = []\n",
        "\n",
        "    if liked_movie not in data[user_id]:\n",
        "        data[user_id].append(liked_movie)\n",
        "\n",
        "    with open('user_memory.json', 'w') as f:\n",
        "        json.dump(data, f)\n",
        "\n",
        "def recommend_from_memory(user_id):\n",
        "    try:\n",
        "        with open('user_memory.json', 'r') as f:\n",
        "            data = json.load(f)\n",
        "        past_movies = data.get(user_id, [])\n",
        "        if not past_movies:\n",
        "            return \"No previous history found for personalization.\"\n",
        "\n",
        "        print(\"🎞️ Your previous liked movies:\", past_movies)\n",
        "        return recommend(past_movies[-1])\n",
        "    except:\n",
        "        return \"Error accessing memory.\"\n"
      ],
      "metadata": {
        "id": "XeTWmaVTdAvv"
      },
      "execution_count": 37,
      "outputs": []
    },
    {
      "cell_type": "code",
      "source": [
        "user_id = \"bharathi\"\n",
        "liked = input(\"Enter a movie you recently liked: \")\n",
        "save_user_memory(user_id, liked)\n",
        "\n",
        "print(\"🎯 Based on your watch history, we suggest:\")\n",
        "print(recommend_from_memory(user_id))\n"
      ],
      "metadata": {
        "colab": {
          "base_uri": "https://localhost:8080/"
        },
        "collapsed": true,
        "id": "m77cT59RdAtK",
        "outputId": "95a42305-a1ea-4c65-be70-3d21ac801d75"
      },
      "execution_count": 38,
      "outputs": [
        {
          "output_type": "stream",
          "name": "stdout",
          "text": [
            "Enter a movie you recently liked: deadpool\n",
            "🎯 Based on your watch history, we suggest:\n",
            "🎞️ Your previous liked movies: ['deadpool', 'avengers']\n",
            "Error accessing memory.\n"
          ]
        }
      ]
    }
  ]
}